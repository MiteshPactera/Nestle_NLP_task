{
 "cells": [
  {
   "cell_type": "code",
   "execution_count": 1,
   "metadata": {},
   "outputs": [
    {
     "data": {
      "text/plain": [
       "'\\nApproach1: \\nCreate some templates and then randomly choose the values from features like Category, SubCategory, Shipment, Volume etc.\\n\\nApproach 2:\\nCreate one NLP model which can generate the questions.\\n'"
      ]
     },
     "execution_count": 1,
     "metadata": {},
     "output_type": "execute_result"
    }
   ],
   "source": [
    "\"\"\"\n",
    "Approach1: \n",
    "Create some templates and then randomly choose the values from features like Category, SubCategory, Shipment, Volume etc.\n",
    "\n",
    "Approach 2:\n",
    "Create one NLP model which can generate the questions.\n",
    "\"\"\""
   ]
  },
  {
   "cell_type": "code",
   "execution_count": null,
   "metadata": {},
   "outputs": [],
   "source": []
  },
  {
   "cell_type": "code",
   "execution_count": 16,
   "metadata": {},
   "outputs": [],
   "source": [
    "import pandas as pd\n",
    "pd.set_option('display.max_colwidth',None)\n",
    "import random\n",
    "import numpy as np"
   ]
  },
  {
   "cell_type": "code",
   "execution_count": 3,
   "metadata": {},
   "outputs": [],
   "source": [
    "# df = pd.read_csv('Mitesh_test1.csv')\n",
    "# df.head()"
   ]
  },
  {
   "cell_type": "raw",
   "metadata": {},
   "source": [
    "Cust = df['Customer'].unique()\n",
    "Cat = df['Category'].unique()\n",
    "sub_cat = df['Sub Category'].unique()\n",
    "time_year = df['Year'].unique()\n",
    "time_month = df['Month'].unique()\n",
    "time_week = df['Week'].unique()\n",
    "time_Qtr = df['Quarter'].unique()\n",
    "tasks = ['Gross_Sales','Net_sales','Top_Line', 'Bottom_Line','Count','Max_Shipment']\n",
    "\n",
    "print(Cust)\n",
    "print(Cat)\n",
    "print(sub_cat)\n",
    "print(time_year)\n",
    "print(time_month)\n",
    "print(time_week)\n",
    "print(time_Qtr)\n"
   ]
  },
  {
   "cell_type": "code",
   "execution_count": 31,
   "metadata": {},
   "outputs": [],
   "source": [
    "cust = ['Walmart' ,'Kroger', 'Publix', 'UNIFI', 'Costco', 'Ahold', 'Amazon' ,'Target'\n",
    " ,'Albertsons/Safeway', 'Aldi' ,'Dollar General']\n",
    "\n",
    "cat = ['Sauces', 'Breakfast' ,'Meats' ,'Cheese' ,'Candy']\n",
    "\n",
    "sub_cat = ['All others', 'Tea' ,'Hot Dogs', 'Coffee', 'Grated', 'Ketchup',\n",
    " 'Processed Cheese', 'Hard' ,'Juice', 'Caramels' ,'Creamers', 'Bars/Snacks',\n",
    " 'Natural Cheese', 'Mayonaise' ,'Enhancers', 'Cold Cuts' ,'Shelf Stable',\n",
    " 'Bacon', 'Gelatin', 'Specialty Meats', 'BBQ' ,'Chocolate']\n",
    "\n",
    "time_year = [2019]\n",
    "time_month = ['Jan', 'Feb' ,'Mar' ,'Apr', 'May' ,'Jun', 'Jul' ,'Aug', 'Sep' ,'Oct', 'Nov' ,'Dec']\n",
    "\n",
    "time_week = ['Wk1' ,'Wk2' ,'Wk3' ,'Wk4', 'Wk5' ,'Wk6' ,'Wk7' ,'Wk8' ,'Wk9' ,'Wk10' ,'Wk11',\n",
    " 'Wk12', 'Wk13' ,'Wk14', 'Wk15' ,'Wk16', 'Wk17', 'Wk18', 'Wk19' ,'Wk20', 'Wk21'\n",
    " 'Wk22' ,'Wk23' ,'Wk24' ,'Wk25' ,'Wk26' ,'Wk27', 'Wk28' ,'Wk29' ,'Wk30', 'Wk31'\n",
    " 'Wk32' ,'Wk33', 'Wk34', 'Wk35' ,'Wk36', 'Wk37', 'Wk38' ,'Wk39' ,'Wk40', 'Wk41'\n",
    " 'Wk42' ,'Wk43', 'Wk44' ,'Wk46', 'Wk47', 'Wk48', 'Wk49' ,'Wk50', 'Wk51', 'Wk52']\n",
    "           \n",
    "time_Qtr = ['Q1', 'Q2', 'Q3', 'Q4']\n",
    "\n",
    "tasks = ['Gross Sales','Net sales','Top Line', 'Bottom Line','Count','Max Shipment','Revenue']\n"
   ]
  },
  {
   "cell_type": "code",
   "execution_count": 32,
   "metadata": {},
   "outputs": [],
   "source": [
    "def get_random(var):\n",
    "    len_var = len(var)\n",
    "    return np.random.randint(low = 0, high = len(var))"
   ]
  },
  {
   "cell_type": "code",
   "execution_count": 33,
   "metadata": {},
   "outputs": [],
   "source": [
    "def get_random_v2(low,high):\n",
    "    return np.random.randint(low = low, high = high)"
   ]
  },
  {
   "cell_type": "code",
   "execution_count": 35,
   "metadata": {},
   "outputs": [],
   "source": [
    "text_1 = ['display','get','generate', 'fetch']\n",
    "text_2 = ['for category','for Sub_category','for the Customer']\n",
    "text_3 = ['in quarter','in month','in year','in week']\n",
    "text_4 = 'to'\n",
    "text_5 = 'where Sub Category is'"
   ]
  },
  {
   "cell_type": "code",
   "execution_count": 36,
   "metadata": {},
   "outputs": [],
   "source": [
    "def get_variables():\n",
    "    cust_var = cust[get_random(cust)]\n",
    "    task_var  = tasks[get_random(tasks)]\n",
    "    category_var =  cat[get_random(cat)]\n",
    "    sub_cat_var = sub_cat[get_random(sub_cat)]\n",
    "    time_qtr = [ \n",
    "        time_Qtr[get_random(time_Qtr)] ,\n",
    "        time_Qtr[get_random_v2(0,len(time_Qtr) //2)] ,\n",
    "        time_Qtr[get_random_v2(len(time_Qtr) // 2 +1, len(time_Qtr))] \n",
    "    ]\n",
    "    \n",
    "    time_mon = [ \n",
    "        time_month[get_random(time_month)] ,\n",
    "        time_month[get_random_v2(0,len(time_month) //2)] ,\n",
    "        time_month[get_random_v2(len(time_month) // 2 +1, len(time_month))] \n",
    "    ]\n",
    "    \n",
    "    time_wk = [ \n",
    "        time_week[get_random(time_week)] ,\n",
    "        time_week[get_random_v2(0,len(time_week) //2)] ,\n",
    "        time_week[get_random_v2(len(time_week) // 2 +1, len(time_week))] \n",
    "    ]\n",
    "    \n",
    "    \n",
    "    return cust_var, task_var,category_var, sub_cat_var, time_qtr,time_mon,time_wk"
   ]
  },
  {
   "cell_type": "code",
   "execution_count": 27,
   "metadata": {},
   "outputs": [],
   "source": [
    "English_Sentences = []\n",
    "for i in range(1000):\n",
    "    cust_var, task_var,category_var, sub_cat_var, time_qtr,time_mon,time_wk = get_variables()\n",
    "    time_frame = text_3[get_random(text_3)]\n",
    "    feature  = text_2[get_random(text_2)]\n",
    "    \n",
    "    if time_frame == 'in week':\n",
    "        time_value = time_wk\n",
    "    elif time_frame == 'in month':\n",
    "        time_value = time_mon\n",
    "    elif time_frame == 'in quarter':\n",
    "        time_value = time_qtr\n",
    "    else:\n",
    "        time_value[0] = '2019'\n",
    "        \n",
    "    if 'for category' in feature:\n",
    "        feature_value = category_var\n",
    "        \n",
    "    elif 'for Sub_category' in feature:\n",
    "        feature_value = sub_cat_var\n",
    "    elif 'for the Customer' in feature:\n",
    "        feature_value = cust_var\n",
    "    feature_value = ' ' + feature_value + ' '\n",
    "    \n",
    "    question_intent = text_1[get_random(text_1)]\n",
    "    if i % 2 == 0:\n",
    "        template =  question_intent + ' ' + task_var + ' ' + feature +  feature_value + time_frame + ' '+ time_value[0]\n",
    "    elif i%3 == 0 and ('for category' in feature  or 'for the Customer' in feature):\n",
    "        template = question_intent + ' ' + task_var + ' ' + feature +  feature_value + time_frame + ' '+ time_value[0] + text_5 + ' ' + sub_cat_var\n",
    "\n",
    "    else:\n",
    "        if time_value[0] == '2019':\n",
    "            template = question_intent + ' ' + task_var + ' ' + feature + feature_value + time_frame + ' ' + time_value[0]\n",
    "        else:\n",
    "            template = question_intent + ' ' + task_var + ' ' + feature + feature_value + time_frame + ' ' +time_value[1] + ' to ' + time_value[2] \n",
    "            \n",
    "    template += '?'\n",
    "    English_Sentences.append(template)\n",
    "    "
   ]
  },
  {
   "cell_type": "code",
   "execution_count": 28,
   "metadata": {},
   "outputs": [],
   "source": [
    "Df = pd.DataFrame(English_Sentences, columns = ['English_Queries'])"
   ]
  },
  {
   "cell_type": "code",
   "execution_count": 29,
   "metadata": {},
   "outputs": [
    {
     "data": {
      "text/html": [
       "<div>\n",
       "<style scoped>\n",
       "    .dataframe tbody tr th:only-of-type {\n",
       "        vertical-align: middle;\n",
       "    }\n",
       "\n",
       "    .dataframe tbody tr th {\n",
       "        vertical-align: top;\n",
       "    }\n",
       "\n",
       "    .dataframe thead th {\n",
       "        text-align: right;\n",
       "    }\n",
       "</style>\n",
       "<table border=\"1\" class=\"dataframe\">\n",
       "  <thead>\n",
       "    <tr style=\"text-align: right;\">\n",
       "      <th></th>\n",
       "      <th>English_Queries</th>\n",
       "    </tr>\n",
       "  </thead>\n",
       "  <tbody>\n",
       "    <tr>\n",
       "      <th>0</th>\n",
       "      <td>Count for Sub_category Shelf Stable in year 2019?</td>\n",
       "    </tr>\n",
       "    <tr>\n",
       "      <th>1</th>\n",
       "      <td>Count for Sub_category Tea in year 2019?</td>\n",
       "    </tr>\n",
       "    <tr>\n",
       "      <th>2</th>\n",
       "      <td>Count for category Candy in week Wk19?</td>\n",
       "    </tr>\n",
       "    <tr>\n",
       "      <th>3</th>\n",
       "      <td>Top_Line for the Customer Dollar General in month Febwhere Sub Category is Processed Cheese?</td>\n",
       "    </tr>\n",
       "    <tr>\n",
       "      <th>4</th>\n",
       "      <td>Max_Shipment for Sub_category Ketchup in month Sep?</td>\n",
       "    </tr>\n",
       "  </tbody>\n",
       "</table>\n",
       "</div>"
      ],
      "text/plain": [
       "                                                                                English_Queries\n",
       "0                                             Count for Sub_category Shelf Stable in year 2019?\n",
       "1                                                      Count for Sub_category Tea in year 2019?\n",
       "2                                                        Count for category Candy in week Wk19?\n",
       "3  Top_Line for the Customer Dollar General in month Febwhere Sub Category is Processed Cheese?\n",
       "4                                           Max_Shipment for Sub_category Ketchup in month Sep?"
      ]
     },
     "execution_count": 29,
     "metadata": {},
     "output_type": "execute_result"
    }
   ],
   "source": [
    "Df.head()"
   ]
  },
  {
   "cell_type": "code",
   "execution_count": 30,
   "metadata": {},
   "outputs": [],
   "source": [
    "Df.to_csv('Generated_English_Queries.csv',index = False)"
   ]
  },
  {
   "cell_type": "code",
   "execution_count": null,
   "metadata": {},
   "outputs": [],
   "source": []
  }
 ],
 "metadata": {
  "kernelspec": {
   "display_name": "Python 3",
   "language": "python",
   "name": "python3"
  },
  "language_info": {
   "codemirror_mode": {
    "name": "ipython",
    "version": 3
   },
   "file_extension": ".py",
   "mimetype": "text/x-python",
   "name": "python",
   "nbconvert_exporter": "python",
   "pygments_lexer": "ipython3",
   "version": "3.8.3"
  }
 },
 "nbformat": 4,
 "nbformat_minor": 4
}
