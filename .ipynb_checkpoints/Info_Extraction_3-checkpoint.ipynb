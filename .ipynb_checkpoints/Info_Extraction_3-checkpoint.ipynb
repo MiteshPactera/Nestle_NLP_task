{
 "cells": [
  {
   "cell_type": "code",
   "execution_count": 1,
   "metadata": {},
   "outputs": [],
   "source": [
    "#!pip install nltk"
   ]
  },
  {
   "cell_type": "code",
   "execution_count": 2,
   "metadata": {},
   "outputs": [],
   "source": [
    "#!pip install spacy"
   ]
  },
  {
   "cell_type": "code",
   "execution_count": 3,
   "metadata": {},
   "outputs": [],
   "source": [
    "#!python -m spacy download en_core_web_sm"
   ]
  },
  {
   "cell_type": "code",
   "execution_count": 4,
   "metadata": {},
   "outputs": [],
   "source": [
    "import spacy\n",
    "import pandas as pd\n",
    "pd.set_option('display.max_colwidth',None)"
   ]
  },
  {
   "cell_type": "code",
   "execution_count": 5,
   "metadata": {},
   "outputs": [],
   "source": [
    "nlp = spacy.load('en_core_web_sm')"
   ]
  },
  {
   "cell_type": "code",
   "execution_count": 6,
   "metadata": {},
   "outputs": [
    {
     "name": "stdout",
     "output_type": "stream",
     "text": [
      "[ --> PUNCT -->\n",
      "Feature --> NOUN -->\n",
      "] --> PUNCT -->\n",
      "What --> PRON -->\n",
      "is --> AUX -->\n",
      "my --> DET -->\n",
      "Gross --> PROPN -->\n",
      "Sales --> NOUN -->\n",
      "for --> ADP -->\n",
      "this --> DET -->\n",
      "category --> NOUN -->\n",
      ", --> PUNCT -->\n",
      "Subcat --> PROPN -->\n",
      ", --> PUNCT -->\n",
      "PPG --> PROPN -->\n",
      ", --> PUNCT -->\n",
      "Business --> PROPN -->\n",
      "Unit --> PROPN -->\n",
      "Factory --> PROPN -->\n",
      "Customer --> PROPN -->\n",
      "from --> ADP -->\n",
      "Jan --> PROPN -->\n",
      "2019 --> NUM -->\n",
      "to --> ADP -->\n",
      "March --> PROPN -->\n",
      "2020 --> NUM -->\n",
      ". --> PUNCT -->\n",
      "How --> ADV -->\n",
      "much --> ADJ -->\n",
      "revenue --> NOUN -->\n",
      "did --> AUX -->\n",
      "I --> PRON -->\n",
      "generate --> VERB -->\n",
      "in --> ADP -->\n",
      "Q1 --> PROPN -->\n",
      "? --> PUNCT -->\n",
      "in --> ADP -->\n",
      "week --> NOUN -->\n",
      "3 --> NUM -->\n",
      "? --> PUNCT -->\n",
      "January --> PROPN -->\n",
      "? --> PUNCT -->\n",
      "weeks --> NOUN -->\n",
      "10 --> NUM -->\n",
      "- --> SYM -->\n",
      "15 --> NUM -->\n",
      "? --> PUNCT -->\n",
      "Feature --> PROPN -->\n",
      "& --> CCONJ -->\n",
      "Time --> PROPN -->\n",
      "How --> ADV -->\n",
      "much --> ADJ -->\n",
      "revenue --> NOUN -->\n",
      "did --> AUX -->\n",
      "the --> DET -->\n",
      "Customer --> PROPN -->\n",
      "Team --> PROPN -->\n",
      "generate --> VERB -->\n",
      "in --> ADP -->\n",
      "Q1 --> PROPN -->\n",
      "and --> CCONJ -->\n",
      "Q2 --> PROPN -->\n",
      "? --> PUNCT -->\n"
     ]
    }
   ],
   "source": [
    "## This is just a test code:\n",
    "text = \"[Feature] What is my Gross Sales for this category, Subcat, PPG, Business Unit Factory Customer from Jan 2019 to March 2020. How much revenue did I generate in Q1? in week 3? January? weeks 10-15? Feature & Time How much revenue did the Customer Team generate in Q1 and Q2?\"\n",
    "nlp_text = nlp(text)\n",
    "for token in nlp_text:\n",
    "    print(token.text, '-->', token.pos_, '-->')"
   ]
  },
  {
   "cell_type": "code",
   "execution_count": 7,
   "metadata": {},
   "outputs": [],
   "source": [
    "# Let's exract number information from the above sentence\n",
    "Numbers = []\n",
    "feats_time = []\n",
    "intent = []\n",
    "\n",
    "for token in nlp_text:\n",
    "    if token.pos_ == 'NUM':\n",
    "        Numbers.append(token)\n",
    "    \n",
    "    if token.pos_ =='PROPN' or token.pos_ == 'NOUN':\n",
    "        feats_time.append(token)\n",
    "        \n",
    "    if token.pos_ == 'VERB':\n",
    "        intent.append(token)\n"
   ]
  },
  {
   "cell_type": "code",
   "execution_count": 8,
   "metadata": {},
   "outputs": [
    {
     "name": "stdout",
     "output_type": "stream",
     "text": [
      "[2019, 2020, 3, 10, 15] \n",
      " [Feature, Gross, Sales, category, Subcat, PPG, Business, Unit, Factory, Customer, Jan, March, revenue, Q1, week, January, weeks, Feature, Time, revenue, Customer, Team, Q1, Q2] \n",
      " [generate, generate]\n"
     ]
    }
   ],
   "source": [
    "print(Numbers,'\\n', feats_time,'\\n',intent)"
   ]
  },
  {
   "cell_type": "code",
   "execution_count": 9,
   "metadata": {},
   "outputs": [],
   "source": [
    "test_df = pd.read_excel('test_sheet.xlsx')"
   ]
  },
  {
   "cell_type": "code",
   "execution_count": 10,
   "metadata": {},
   "outputs": [
    {
     "data": {
      "text/html": [
       "<div>\n",
       "<style scoped>\n",
       "    .dataframe tbody tr th:only-of-type {\n",
       "        vertical-align: middle;\n",
       "    }\n",
       "\n",
       "    .dataframe tbody tr th {\n",
       "        vertical-align: top;\n",
       "    }\n",
       "\n",
       "    .dataframe thead th {\n",
       "        text-align: right;\n",
       "    }\n",
       "</style>\n",
       "<table border=\"1\" class=\"dataframe\">\n",
       "  <thead>\n",
       "    <tr style=\"text-align: right;\">\n",
       "      <th></th>\n",
       "      <th>Sample General English Query:</th>\n",
       "    </tr>\n",
       "  </thead>\n",
       "  <tbody>\n",
       "    <tr>\n",
       "      <th>0</th>\n",
       "      <td>Display the Gross Sales for this category, Subcat, PPG, Business, Unit, Factory, Customer?</td>\n",
       "    </tr>\n",
       "    <tr>\n",
       "      <th>1</th>\n",
       "      <td>How much revenue did Company generate in Q1? in week 3? January? weeks 10-15?</td>\n",
       "    </tr>\n",
       "    <tr>\n",
       "      <th>2</th>\n",
       "      <td>How much revenue did the Customer Team generate in Q1 and Q2?</td>\n",
       "    </tr>\n",
       "    <tr>\n",
       "      <th>3</th>\n",
       "      <td>Fetch the  Customers who has the sales greater than $ 40 M in year 2019?</td>\n",
       "    </tr>\n",
       "    <tr>\n",
       "      <th>4</th>\n",
       "      <td>List out the categories from all the customers which has shipment more than $ 40M  in Januanry 2019?</td>\n",
       "    </tr>\n",
       "  </tbody>\n",
       "</table>\n",
       "</div>"
      ],
      "text/plain": [
       "                                                                          Sample General English Query:\n",
       "0           Display the Gross Sales for this category, Subcat, PPG, Business, Unit, Factory, Customer? \n",
       "1                        How much revenue did Company generate in Q1? in week 3? January? weeks 10-15? \n",
       "2                                         How much revenue did the Customer Team generate in Q1 and Q2?\n",
       "3                              Fetch the  Customers who has the sales greater than $ 40 M in year 2019?\n",
       "4  List out the categories from all the customers which has shipment more than $ 40M  in Januanry 2019?"
      ]
     },
     "execution_count": 10,
     "metadata": {},
     "output_type": "execute_result"
    }
   ],
   "source": [
    "test_df.head()"
   ]
  },
  {
   "cell_type": "code",
   "execution_count": 11,
   "metadata": {},
   "outputs": [
    {
     "name": "stdout",
     "output_type": "stream",
     "text": [
      "Display the Gross Sales for this category, Subcat, PPG, Business, Unit, Factory, Customer? \n",
      "How much revenue did Company generate in Q1? in week 3? January? weeks 10-15? \n",
      "How much revenue did the Customer Team generate in Q1 and Q2?\n",
      "Fetch the  Customers who has the sales greater than $ 40 M in year 2019?\n",
      "List out the categories from all the customers which has shipment more than $ 40M  in Januanry 2019?\n"
     ]
    }
   ],
   "source": [
    "for i in range(len(test_df)):\n",
    "    print(test_df['Sample General English Query:'][i])"
   ]
  },
  {
   "cell_type": "code",
   "execution_count": 12,
   "metadata": {},
   "outputs": [],
   "source": [
    "nlp_text_df = {}\n",
    "for i in range(len(test_df)):\n",
    "    nlp_text_df[i] = nlp(test_df['Sample General English Query:'][i])"
   ]
  },
  {
   "cell_type": "code",
   "execution_count": 13,
   "metadata": {},
   "outputs": [],
   "source": [
    "# Let's exract information from the above sentence\n",
    "numbers_dict = {}\n",
    "feats_and_time_dict = {}\n",
    "intent_dict = {}\n",
    "\n",
    "for i in range(len(nlp_text_df)):\n",
    "    num = []\n",
    "    f_t = []\n",
    "    vrb = []\n",
    "    for token in nlp_text_df[i]:\n",
    "        if token.pos_ == 'NUM':\n",
    "            num.append(token)\n",
    "      \n",
    "        if token.pos_ =='PROPN' or token.pos_ == 'NOUN':\n",
    "            f_t.append(token)\n",
    "        \n",
    "        if token.pos_ == 'VERB':\n",
    "            vrb.append(token)\n",
    "    \n",
    "    numbers_dict[i] = num\n",
    "    feats_and_time_dict[i] = f_t\n",
    "    intent_dict[i] = vrb\n"
   ]
  },
  {
   "cell_type": "code",
   "execution_count": 14,
   "metadata": {},
   "outputs": [
    {
     "name": "stdout",
     "output_type": "stream",
     "text": [
      "{0: [], 1: [3, 10, 15], 2: [], 3: [40, 2019], 4: [40, 2019]} \n",
      "\n",
      " {0: [Gross, Sales, category, Subcat, PPG, Business, Unit, Factory, Customer], 1: [revenue, Company, Q1, week, January, weeks], 2: [revenue, Customer, Team, Q1, Q2], 3: [Customers, sales, M, year], 4: [categories, customers, shipment, M, Januanry]} \n",
      "\n",
      " {0: [Display], 1: [generate], 2: [generate], 3: [Fetch], 4: [List]}\n"
     ]
    }
   ],
   "source": [
    "print(numbers_dict,'\\n\\n', feats_and_time_dict, '\\n\\n', intent_dict)"
   ]
  },
  {
   "cell_type": "code",
   "execution_count": 15,
   "metadata": {},
   "outputs": [],
   "source": [
    "test_df['Features_info'] = feats_and_time_dict.values()\n",
    "test_df['Numeric_info'] = numbers_dict.values()\n",
    "test_df['Intent'] = intent_dict.values()"
   ]
  },
  {
   "cell_type": "code",
   "execution_count": 16,
   "metadata": {},
   "outputs": [
    {
     "data": {
      "text/html": [
       "<div>\n",
       "<style scoped>\n",
       "    .dataframe tbody tr th:only-of-type {\n",
       "        vertical-align: middle;\n",
       "    }\n",
       "\n",
       "    .dataframe tbody tr th {\n",
       "        vertical-align: top;\n",
       "    }\n",
       "\n",
       "    .dataframe thead th {\n",
       "        text-align: right;\n",
       "    }\n",
       "</style>\n",
       "<table border=\"1\" class=\"dataframe\">\n",
       "  <thead>\n",
       "    <tr style=\"text-align: right;\">\n",
       "      <th></th>\n",
       "      <th>Sample General English Query:</th>\n",
       "      <th>Features_info</th>\n",
       "      <th>Numeric_info</th>\n",
       "      <th>Intent</th>\n",
       "    </tr>\n",
       "  </thead>\n",
       "  <tbody>\n",
       "    <tr>\n",
       "      <th>0</th>\n",
       "      <td>Display the Gross Sales for this category, Subcat, PPG, Business, Unit, Factory, Customer?</td>\n",
       "      <td>[Gross, Sales, category, Subcat, PPG, Business, Unit, Factory, Customer]</td>\n",
       "      <td>[]</td>\n",
       "      <td>(Display,)</td>\n",
       "    </tr>\n",
       "    <tr>\n",
       "      <th>1</th>\n",
       "      <td>How much revenue did Company generate in Q1? in week 3? January? weeks 10-15?</td>\n",
       "      <td>[revenue, Company, Q1, week, January, weeks]</td>\n",
       "      <td>[3, 10, 15]</td>\n",
       "      <td>(generate,)</td>\n",
       "    </tr>\n",
       "    <tr>\n",
       "      <th>2</th>\n",
       "      <td>How much revenue did the Customer Team generate in Q1 and Q2?</td>\n",
       "      <td>[revenue, Customer, Team, Q1, Q2]</td>\n",
       "      <td>[]</td>\n",
       "      <td>(generate,)</td>\n",
       "    </tr>\n",
       "    <tr>\n",
       "      <th>3</th>\n",
       "      <td>Fetch the  Customers who has the sales greater than $ 40 M in year 2019?</td>\n",
       "      <td>[Customers, sales, M, year]</td>\n",
       "      <td>[40, 2019]</td>\n",
       "      <td>(Fetch,)</td>\n",
       "    </tr>\n",
       "    <tr>\n",
       "      <th>4</th>\n",
       "      <td>List out the categories from all the customers which has shipment more than $ 40M  in Januanry 2019?</td>\n",
       "      <td>[categories, customers, shipment, M, Januanry]</td>\n",
       "      <td>[40, 2019]</td>\n",
       "      <td>(List,)</td>\n",
       "    </tr>\n",
       "  </tbody>\n",
       "</table>\n",
       "</div>"
      ],
      "text/plain": [
       "                                                                          Sample General English Query:  \\\n",
       "0           Display the Gross Sales for this category, Subcat, PPG, Business, Unit, Factory, Customer?    \n",
       "1                        How much revenue did Company generate in Q1? in week 3? January? weeks 10-15?    \n",
       "2                                         How much revenue did the Customer Team generate in Q1 and Q2?   \n",
       "3                              Fetch the  Customers who has the sales greater than $ 40 M in year 2019?   \n",
       "4  List out the categories from all the customers which has shipment more than $ 40M  in Januanry 2019?   \n",
       "\n",
       "                                                              Features_info  \\\n",
       "0  [Gross, Sales, category, Subcat, PPG, Business, Unit, Factory, Customer]   \n",
       "1                              [revenue, Company, Q1, week, January, weeks]   \n",
       "2                                         [revenue, Customer, Team, Q1, Q2]   \n",
       "3                                               [Customers, sales, M, year]   \n",
       "4                            [categories, customers, shipment, M, Januanry]   \n",
       "\n",
       "  Numeric_info       Intent  \n",
       "0           []   (Display,)  \n",
       "1  [3, 10, 15]  (generate,)  \n",
       "2           []  (generate,)  \n",
       "3   [40, 2019]     (Fetch,)  \n",
       "4   [40, 2019]      (List,)  "
      ]
     },
     "execution_count": 16,
     "metadata": {},
     "output_type": "execute_result"
    }
   ],
   "source": [
    "test_df.head()"
   ]
  },
  {
   "cell_type": "code",
   "execution_count": 17,
   "metadata": {},
   "outputs": [],
   "source": [
    "test_df.to_excel('Token_Gen1.xlsx', index=False)"
   ]
  },
  {
   "cell_type": "code",
   "execution_count": null,
   "metadata": {},
   "outputs": [],
   "source": []
  },
  {
   "cell_type": "code",
   "execution_count": null,
   "metadata": {},
   "outputs": [],
   "source": []
  },
  {
   "cell_type": "code",
   "execution_count": null,
   "metadata": {},
   "outputs": [],
   "source": []
  },
  {
   "cell_type": "code",
   "execution_count": null,
   "metadata": {},
   "outputs": [],
   "source": []
  },
  {
   "cell_type": "code",
   "execution_count": null,
   "metadata": {},
   "outputs": [],
   "source": []
  }
 ],
 "metadata": {
  "kernelspec": {
   "display_name": "Python 3",
   "language": "python",
   "name": "python3"
  },
  "language_info": {
   "codemirror_mode": {
    "name": "ipython",
    "version": 3
   },
   "file_extension": ".py",
   "mimetype": "text/x-python",
   "name": "python",
   "nbconvert_exporter": "python",
   "pygments_lexer": "ipython3",
   "version": "3.8.3"
  }
 },
 "nbformat": 4,
 "nbformat_minor": 4
}
