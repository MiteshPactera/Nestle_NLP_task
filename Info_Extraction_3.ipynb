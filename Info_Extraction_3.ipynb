{
 "cells": [
  {
   "cell_type": "code",
   "execution_count": 1,
   "metadata": {},
   "outputs": [],
   "source": [
    "# Importing Libraries: \n",
    "import spacy\n",
    "import pandas as pd\n",
    "pd.set_option('display.max_colwidth',None)"
   ]
  },
  {
   "cell_type": "code",
   "execution_count": 2,
   "metadata": {},
   "outputs": [],
   "source": [
    "nlp = spacy.load('en_core_web_sm')"
   ]
  },
  {
   "cell_type": "code",
   "execution_count": 3,
   "metadata": {},
   "outputs": [],
   "source": [
    "df = pd.read_csv('Generated_English_Queries.csv')"
   ]
  },
  {
   "cell_type": "code",
   "execution_count": 4,
   "metadata": {},
   "outputs": [
    {
     "data": {
      "text/html": [
       "<div>\n",
       "<style scoped>\n",
       "    .dataframe tbody tr th:only-of-type {\n",
       "        vertical-align: middle;\n",
       "    }\n",
       "\n",
       "    .dataframe tbody tr th {\n",
       "        vertical-align: top;\n",
       "    }\n",
       "\n",
       "    .dataframe thead th {\n",
       "        text-align: right;\n",
       "    }\n",
       "</style>\n",
       "<table border=\"1\" class=\"dataframe\">\n",
       "  <thead>\n",
       "    <tr style=\"text-align: right;\">\n",
       "      <th></th>\n",
       "      <th>English_Queries</th>\n",
       "    </tr>\n",
       "  </thead>\n",
       "  <tbody>\n",
       "    <tr>\n",
       "      <th>0</th>\n",
       "      <td>generate Gross Sales for the Customer Albertsons/Safeway in month Apr?</td>\n",
       "    </tr>\n",
       "    <tr>\n",
       "      <th>1</th>\n",
       "      <td>get Revenue for category Cheese in quarter Q1 to Q4?</td>\n",
       "    </tr>\n",
       "  </tbody>\n",
       "</table>\n",
       "</div>"
      ],
      "text/plain": [
       "                                                          English_Queries\n",
       "0  generate Gross Sales for the Customer Albertsons/Safeway in month Apr?\n",
       "1                    get Revenue for category Cheese in quarter Q1 to Q4?"
      ]
     },
     "execution_count": 4,
     "metadata": {},
     "output_type": "execute_result"
    }
   ],
   "source": [
    "df.head(2)"
   ]
  },
  {
   "cell_type": "markdown",
   "metadata": {},
   "source": [
    "### Creating Spacy objects for each question for further processing"
   ]
  },
  {
   "cell_type": "code",
   "execution_count": 5,
   "metadata": {},
   "outputs": [],
   "source": [
    "nlp_text_df = {}\n",
    "for i in range(len(df)):\n",
    "    nlp_text_df[i] = nlp(df['English_Queries'][i])"
   ]
  },
  {
   "cell_type": "markdown",
   "metadata": {},
   "source": [
    "### POS Extracion for each question"
   ]
  },
  {
   "cell_type": "code",
   "execution_count": 6,
   "metadata": {},
   "outputs": [],
   "source": [
    "# Let's exract information from the above sentence\n",
    "numbers_dict = {}\n",
    "feats_and_time_dict = {}\n",
    "intent_dict = {}\n",
    "\n",
    "for i in range(len(nlp_text_df)):\n",
    "    temp_numeric = []\n",
    "    temp_feat = []\n",
    "    temp_verb = []\n",
    "    for token in nlp_text_df[i]:\n",
    "        if token.pos_ == 'NUM':\n",
    "            temp_numeric.append(token)\n",
    "      \n",
    "        if token.pos_ =='PROPN' or token.pos_ == 'NOUN':\n",
    "            temp_feat.append(token)\n",
    "        \n",
    "        if token.pos_ == 'VERB':\n",
    "            temp_verb.append(token)\n",
    "    \n",
    "    numbers_dict[i] = temp_numeric\n",
    "    feats_and_time_dict[i] = temp_feat\n",
    "    intent_dict[i] = temp_verb\n"
   ]
  },
  {
   "cell_type": "code",
   "execution_count": 7,
   "metadata": {},
   "outputs": [],
   "source": [
    "df['Features_info'] = feats_and_time_dict.values()\n",
    "df['Numeric_info'] = numbers_dict.values()\n",
    "df['Intent'] = intent_dict.values() "
   ]
  },
  {
   "cell_type": "code",
   "execution_count": 8,
   "metadata": {},
   "outputs": [
    {
     "data": {
      "text/html": [
       "<div>\n",
       "<style scoped>\n",
       "    .dataframe tbody tr th:only-of-type {\n",
       "        vertical-align: middle;\n",
       "    }\n",
       "\n",
       "    .dataframe tbody tr th {\n",
       "        vertical-align: top;\n",
       "    }\n",
       "\n",
       "    .dataframe thead th {\n",
       "        text-align: right;\n",
       "    }\n",
       "</style>\n",
       "<table border=\"1\" class=\"dataframe\">\n",
       "  <thead>\n",
       "    <tr style=\"text-align: right;\">\n",
       "      <th></th>\n",
       "      <th>English_Queries</th>\n",
       "      <th>Features_info</th>\n",
       "      <th>Numeric_info</th>\n",
       "      <th>Intent</th>\n",
       "    </tr>\n",
       "  </thead>\n",
       "  <tbody>\n",
       "    <tr>\n",
       "      <th>0</th>\n",
       "      <td>generate Gross Sales for the Customer Albertsons/Safeway in month Apr?</td>\n",
       "      <td>[Gross, Sales, Customer, Albertsons, Safeway, month, Apr]</td>\n",
       "      <td>[]</td>\n",
       "      <td>[generate]</td>\n",
       "    </tr>\n",
       "    <tr>\n",
       "      <th>1</th>\n",
       "      <td>get Revenue for category Cheese in quarter Q1 to Q4?</td>\n",
       "      <td>[Revenue, category, Cheese, quarter, Q1, Q4]</td>\n",
       "      <td>[]</td>\n",
       "      <td>[]</td>\n",
       "    </tr>\n",
       "    <tr>\n",
       "      <th>2</th>\n",
       "      <td>display Max Shipment for the Customer Albertsons/Safeway in year 2019?</td>\n",
       "      <td>[display, Max, Shipment, Customer, Albertsons, Safeway, year]</td>\n",
       "      <td>[2019]</td>\n",
       "      <td>[]</td>\n",
       "    </tr>\n",
       "    <tr>\n",
       "      <th>3</th>\n",
       "      <td>display Bottom Line for Sub_category Natural Cheese in week Wk2 to Wk31?</td>\n",
       "      <td>[Bottom, Line, Natural, Cheese, week, Wk2, Wk31]</td>\n",
       "      <td>[]</td>\n",
       "      <td>[display]</td>\n",
       "    </tr>\n",
       "    <tr>\n",
       "      <th>4</th>\n",
       "      <td>get Gross Sales for Sub_category Grated in week Wk41?</td>\n",
       "      <td>[Gross, Sales, Sub_category, week]</td>\n",
       "      <td>[]</td>\n",
       "      <td>[Grated]</td>\n",
       "    </tr>\n",
       "  </tbody>\n",
       "</table>\n",
       "</div>"
      ],
      "text/plain": [
       "                                                            English_Queries  \\\n",
       "0    generate Gross Sales for the Customer Albertsons/Safeway in month Apr?   \n",
       "1                      get Revenue for category Cheese in quarter Q1 to Q4?   \n",
       "2    display Max Shipment for the Customer Albertsons/Safeway in year 2019?   \n",
       "3  display Bottom Line for Sub_category Natural Cheese in week Wk2 to Wk31?   \n",
       "4                     get Gross Sales for Sub_category Grated in week Wk41?   \n",
       "\n",
       "                                                   Features_info Numeric_info  \\\n",
       "0      [Gross, Sales, Customer, Albertsons, Safeway, month, Apr]           []   \n",
       "1                   [Revenue, category, Cheese, quarter, Q1, Q4]           []   \n",
       "2  [display, Max, Shipment, Customer, Albertsons, Safeway, year]       [2019]   \n",
       "3               [Bottom, Line, Natural, Cheese, week, Wk2, Wk31]           []   \n",
       "4                             [Gross, Sales, Sub_category, week]           []   \n",
       "\n",
       "       Intent  \n",
       "0  [generate]  \n",
       "1          []  \n",
       "2          []  \n",
       "3   [display]  \n",
       "4    [Grated]  "
      ]
     },
     "execution_count": 8,
     "metadata": {},
     "output_type": "execute_result"
    }
   ],
   "source": [
    "df.head(5)"
   ]
  },
  {
   "cell_type": "code",
   "execution_count": null,
   "metadata": {},
   "outputs": [],
   "source": []
  }
 ],
 "metadata": {
  "kernelspec": {
   "display_name": "Python 3",
   "language": "python",
   "name": "python3"
  },
  "language_info": {
   "codemirror_mode": {
    "name": "ipython",
    "version": 3
   },
   "file_extension": ".py",
   "mimetype": "text/x-python",
   "name": "python",
   "nbconvert_exporter": "python",
   "pygments_lexer": "ipython3",
   "version": "3.8.3"
  }
 },
 "nbformat": 4,
 "nbformat_minor": 4
}
