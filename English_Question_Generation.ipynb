{
 "cells": [
  {
   "cell_type": "markdown",
   "metadata": {},
   "source": [
    "### Approach: \n",
    "\n",
    "Generate random English Senteces based on templates, randomly assigning values from features like Category, SubCategory, Customer etc.\n",
    "\n",
    "**for example:**\n",
    "\n",
    "Template = generate Gross Sales for the Customer Albertsons/Safeway in month Apr?\n"
   ]
  },
  {
   "cell_type": "code",
   "execution_count": 1,
   "metadata": {},
   "outputs": [],
   "source": [
    "import pandas as pd\n",
    "pd.set_option('display.max_colwidth',None)\n",
    "import random\n",
    "import numpy as np"
   ]
  },
  {
   "cell_type": "markdown",
   "metadata": {},
   "source": [
    "## The question will be generated based on below variables:"
   ]
  },
  {
   "cell_type": "code",
   "execution_count": 2,
   "metadata": {},
   "outputs": [],
   "source": [
    "customer = ['Walmart' ,'Kroger', 'Publix', 'UNIFI', 'Costco', 'Ahold', 'Amazon' ,'Target'\n",
    " ,'Albertsons/Safeway', 'Aldi' ,'Dollar General']\n",
    "\n",
    "category = ['Sauces', 'Breakfast' ,'Meats' ,'Cheese' ,'Candy']\n",
    "\n",
    "sub_category = ['All others', 'Tea' ,'Hot Dogs', 'Coffee', 'Grated', 'Ketchup',\n",
    " 'Processed Cheese', 'Hard' ,'Juice', 'Caramels' ,'Creamers', 'Bars/Snacks',\n",
    " 'Natural Cheese', 'Mayonaise' ,'Enhancers', 'Cold Cuts' ,'Shelf Stable',\n",
    " 'Bacon', 'Gelatin', 'Specialty Meats', 'BBQ' ,'Chocolate']\n",
    "\n",
    "time_year = [2019]\n",
    "time_month = ['Jan', 'Feb' ,'Mar' ,'Apr', 'May' ,'Jun', 'Jul' ,'Aug', 'Sep' ,'Oct', 'Nov' ,'Dec']\n",
    "\n",
    "time_week = ['Wk1' ,'Wk2' ,'Wk3' ,'Wk4', 'Wk5' ,'Wk6' ,'Wk7' ,'Wk8' ,'Wk9' ,'Wk10' ,'Wk11',\n",
    " 'Wk12', 'Wk13' ,'Wk14', 'Wk15' ,'Wk16', 'Wk17', 'Wk18', 'Wk19' ,'Wk20', 'Wk21',\n",
    " 'Wk22' ,'Wk23' ,'Wk24' ,'Wk25' ,'Wk26' ,'Wk27', 'Wk28' ,'Wk29' ,'Wk30', 'Wk31',\n",
    " 'Wk32' ,'Wk33', 'Wk34', 'Wk35' ,'Wk36', 'Wk37', 'Wk38' ,'Wk39' ,'Wk40', 'Wk41',\n",
    " 'Wk42' ,'Wk43', 'Wk44' ,'Wk46', 'Wk47', 'Wk48', 'Wk49' ,'Wk50', 'Wk51', 'Wk52']\n",
    "           \n",
    "time_quarter = ['Q1', 'Q2', 'Q3', 'Q4']\n",
    "\n",
    "tasks = ['Gross Sales','Net sales','Top Line', 'Bottom Line','Count','Max Shipment','Revenue']\n"
   ]
  },
  {
   "cell_type": "markdown",
   "metadata": {},
   "source": [
    "## Funtions to get random values from the list:"
   ]
  },
  {
   "cell_type": "code",
   "execution_count": 3,
   "metadata": {},
   "outputs": [],
   "source": [
    "def get_random(var):\n",
    "    len_var = len(var)\n",
    "    return np.random.randint(low = 0, high = len(var))"
   ]
  },
  {
   "cell_type": "code",
   "execution_count": 4,
   "metadata": {},
   "outputs": [],
   "source": [
    "def get_random_v2(low,high):\n",
    "    return np.random.randint(low = low, high = high)"
   ]
  },
  {
   "cell_type": "code",
   "execution_count": 5,
   "metadata": {},
   "outputs": [],
   "source": [
    "text_intent = ['display','get','generate', 'fetch']\n",
    "text_features = ['for category','for Sub_category','for the Customer']\n",
    "text_time = ['in quarter','in month','in year','in week']\n",
    "text_where_clause = 'where Sub Category is'"
   ]
  },
  {
   "cell_type": "code",
   "execution_count": 6,
   "metadata": {},
   "outputs": [],
   "source": [
    "def get_variables():\n",
    "    customer_value = customer[get_random(customer)]\n",
    "    tasks_value  = tasks[get_random(tasks)]\n",
    "    category_value =  category[get_random(category)]\n",
    "    sub_category_value = sub_category[get_random(sub_category)]\n",
    "    \n",
    "    time_quarter_value = [ \n",
    "        time_quarter[get_random(time_quarter)] ,\n",
    "        time_quarter[get_random_v2(0,len(time_quarter) //2)] ,\n",
    "        time_quarter[get_random_v2(len(time_quarter) // 2 +1, len(time_quarter))] \n",
    "    ]\n",
    "    \n",
    "    time_month_value = [ \n",
    "        time_month[get_random(time_month)] ,\n",
    "        time_month[get_random_v2(0,len(time_month) //2)] ,\n",
    "        time_month[get_random_v2(len(time_month) // 2 +1, len(time_month))] \n",
    "    ]\n",
    "    \n",
    "    time_week_value = [ \n",
    "        time_week[get_random(time_week)] ,\n",
    "        time_week[get_random_v2(0,len(time_week) //2)] ,\n",
    "        time_week[get_random_v2(len(time_week) // 2 +1, len(time_week))] \n",
    "    ]\n",
    "    \n",
    "    \n",
    "    return customer_value, tasks_value,category_value, sub_category_value, time_quarter_value,time_month_value,time_week_value"
   ]
  },
  {
   "cell_type": "markdown",
   "metadata": {},
   "source": [
    "## Generating 1000 Random English senteces:\n",
    "\n",
    "Template format contains information from different variables mentioned above.\n",
    "\n",
    "we will be using the below format :\n",
    "\n",
    "question_intent + ' ' + tasks_value + ' ' + feature +  feature_value + time_frame + ' '+ time_value[0]\n",
    "\n",
    "\n"
   ]
  },
  {
   "cell_type": "code",
   "execution_count": 8,
   "metadata": {},
   "outputs": [],
   "source": [
    "English_Sentences = []\n",
    "for i in range(1000):\n",
    "    customer_value, tasks_value,category_value, sub_category_value, time_quarter_value,time_month_value,time_week_value = get_variables()\n",
    "    time_frame = text_time[get_random(text_time)]\n",
    "    feature  = text_features[get_random(text_features)]\n",
    "    \n",
    "    if time_frame == 'in week':\n",
    "        time_value = time_week_value\n",
    "    elif time_frame == 'in month':\n",
    "        time_value = time_month_value\n",
    "    elif time_frame == 'in quarter':\n",
    "        time_value = time_quarter_value\n",
    "    else:\n",
    "        time_value[0] = '2019'\n",
    "        \n",
    "    if 'for category' in feature:\n",
    "        feature_value = category_value\n",
    "        \n",
    "    elif 'for Sub_category' in feature:\n",
    "        feature_value = sub_category_value\n",
    "    elif 'for the Customer' in feature:\n",
    "        feature_value = customer_value\n",
    "    feature_value = ' ' + feature_value + ' '\n",
    "    \n",
    "    question_intent = text_intent[get_random(text_intent)]\n",
    "    if i % 2 == 0:\n",
    "        template =  question_intent + ' ' + tasks_value + ' ' + feature +  feature_value + time_frame + ' '+ time_value[0]\n",
    "    elif i%3 == 0 and ('for category' in feature  or 'for the Customer' in feature):\n",
    "        template = question_intent + ' ' + tasks_value + ' ' + feature +  feature_value + time_frame + ' '+ time_value[0]+ ' ' + text_where_clause + ' ' + sub_category_value\n",
    "\n",
    "    else:\n",
    "        if time_value[0] == '2019':\n",
    "            template = question_intent + ' ' + tasks_value + ' ' + feature + feature_value + time_frame + ' ' + time_value[0]\n",
    "        else:\n",
    "            template = question_intent + ' ' + tasks_value + ' ' + feature + feature_value + time_frame + ' ' +time_value[1] + ' to ' + time_value[2] \n",
    "            \n",
    "    template += '?'\n",
    "    English_Sentences.append(template)\n",
    "    "
   ]
  },
  {
   "cell_type": "code",
   "execution_count": 9,
   "metadata": {},
   "outputs": [],
   "source": [
    "Df = pd.DataFrame(English_Sentences, columns = ['English_Queries'])"
   ]
  },
  {
   "cell_type": "code",
   "execution_count": 10,
   "metadata": {},
   "outputs": [
    {
     "data": {
      "text/html": [
       "<div>\n",
       "<style scoped>\n",
       "    .dataframe tbody tr th:only-of-type {\n",
       "        vertical-align: middle;\n",
       "    }\n",
       "\n",
       "    .dataframe tbody tr th {\n",
       "        vertical-align: top;\n",
       "    }\n",
       "\n",
       "    .dataframe thead th {\n",
       "        text-align: right;\n",
       "    }\n",
       "</style>\n",
       "<table border=\"1\" class=\"dataframe\">\n",
       "  <thead>\n",
       "    <tr style=\"text-align: right;\">\n",
       "      <th></th>\n",
       "      <th>English_Queries</th>\n",
       "    </tr>\n",
       "  </thead>\n",
       "  <tbody>\n",
       "    <tr>\n",
       "      <th>0</th>\n",
       "      <td>display Count for the Customer UNIFI in week Wk17?</td>\n",
       "    </tr>\n",
       "    <tr>\n",
       "      <th>1</th>\n",
       "      <td>display Bottom Line for category Candy in quarter Q2 to Q4?</td>\n",
       "    </tr>\n",
       "    <tr>\n",
       "      <th>2</th>\n",
       "      <td>get Count for the Customer Kroger in year 2019?</td>\n",
       "    </tr>\n",
       "    <tr>\n",
       "      <th>3</th>\n",
       "      <td>generate Top Line for category Cheese in month Nov where Sub Category is Chocolate?</td>\n",
       "    </tr>\n",
       "    <tr>\n",
       "      <th>4</th>\n",
       "      <td>display Count for the Customer Costco in month Jun?</td>\n",
       "    </tr>\n",
       "  </tbody>\n",
       "</table>\n",
       "</div>"
      ],
      "text/plain": [
       "                                                                       English_Queries\n",
       "0                                   display Count for the Customer UNIFI in week Wk17?\n",
       "1                          display Bottom Line for category Candy in quarter Q2 to Q4?\n",
       "2                                      get Count for the Customer Kroger in year 2019?\n",
       "3  generate Top Line for category Cheese in month Nov where Sub Category is Chocolate?\n",
       "4                                  display Count for the Customer Costco in month Jun?"
      ]
     },
     "execution_count": 10,
     "metadata": {},
     "output_type": "execute_result"
    }
   ],
   "source": [
    "Df.head()"
   ]
  },
  {
   "cell_type": "code",
   "execution_count": 11,
   "metadata": {},
   "outputs": [],
   "source": [
    "Df.to_csv('Generated_English_Queries.csv',index = False)"
   ]
  },
  {
   "cell_type": "code",
   "execution_count": null,
   "metadata": {},
   "outputs": [],
   "source": []
  }
 ],
 "metadata": {
  "kernelspec": {
   "display_name": "Python 3",
   "language": "python",
   "name": "python3"
  },
  "language_info": {
   "codemirror_mode": {
    "name": "ipython",
    "version": 3
   },
   "file_extension": ".py",
   "mimetype": "text/x-python",
   "name": "python",
   "nbconvert_exporter": "python",
   "pygments_lexer": "ipython3",
   "version": "3.8.3"
  }
 },
 "nbformat": 4,
 "nbformat_minor": 4
}
