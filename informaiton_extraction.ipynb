{
 "cells": [
  {
   "cell_type": "code",
   "execution_count": null,
   "metadata": {},
   "outputs": [],
   "source": [
    "#!pip install nltk"
   ]
  },
  {
   "cell_type": "code",
   "execution_count": null,
   "metadata": {},
   "outputs": [],
   "source": [
    "#!pip install spacy"
   ]
  },
  {
   "cell_type": "code",
   "execution_count": null,
   "metadata": {},
   "outputs": [],
   "source": [
    "#!python -m spacy download en_core_web_sm"
   ]
  },
  {
   "cell_type": "code",
   "execution_count": 1,
   "metadata": {},
   "outputs": [],
   "source": [
    "import spacy\n",
    "import pandas as pd\n",
    "pd.set_option('display.max_colwidth',None)\n",
    "nlp = spacy.load('en_core_web_sm')"
   ]
  },
  {
   "cell_type": "code",
   "execution_count": 2,
   "metadata": {},
   "outputs": [],
   "source": [
    "from spacy.gold import GoldParse\n",
    "from spacy.pipeline import EntityRecognizer\n",
    "#print(dir(spacy.tokens.token.Token))"
   ]
  },
  {
   "cell_type": "code",
   "execution_count": 26,
   "metadata": {
    "scrolled": true
   },
   "outputs": [
    {
     "name": "stdout",
     "output_type": "stream",
     "text": [
      "Write --> VERB --> O --> \n",
      "a --> DET --> O --> \n",
      "query --> NOUN --> O --> \n",
      "to --> PART --> O --> \n",
      "find --> VERB --> O --> \n",
      "all --> DET --> O --> \n",
      "the --> DET --> O --> \n",
      "employees --> NOUN --> O --> \n",
      "whose --> DET --> O --> \n",
      "salary --> NOUN --> O --> \n",
      "is --> AUX --> O --> \n",
      "between --> ADP --> B --> CARDINAL\n",
      "50000 --> NUM --> I --> CARDINAL\n",
      "to --> ADP --> I --> CARDINAL\n",
      "100000 --> NUM --> I --> CARDINAL\n",
      ". --> PUNCT --> O --> \n",
      "from --> ADP --> O --> \n",
      "Quarter --> PROPN --> B --> WORK_OF_ART\n",
      "Q1 --> PROPN --> I --> WORK_OF_ART\n",
      "to --> ADP --> O --> \n",
      "Q4 --> NOUN --> B --> PRODUCT\n",
      "? --> PUNCT --> O --> \n"
     ]
    }
   ],
   "source": [
    "## This is just a test code:\n",
    "text = \"Write a query to find all the employees whose salary is between 50000 to 100000. from Quarter Q1 to Q4?\"\n",
    "nlp_text = nlp(text)\n",
    "for token in nlp_text:\n",
    "    print(token.text, '-->', token.pos_, '-->', token.ent_iob_,'-->',token.ent_type_)"
   ]
  },
  {
   "cell_type": "code",
   "execution_count": 4,
   "metadata": {},
   "outputs": [
    {
     "name": "stdout",
     "output_type": "stream",
     "text": [
      "display --> NOUN --> B --> PERSON\n",
      "Max --> PROPN --> I --> PERSON\n",
      "Shipment --> PROPN --> I --> PERSON\n",
      "for --> ADP --> O --> \n",
      "the --> DET --> O --> \n",
      "Amazon --> PROPN --> B --> ORG\n",
      "from --> ADP --> O --> \n",
      "India --> PROPN --> B --> GPE\n",
      "in --> ADP --> O --> \n",
      "year --> NOUN --> B --> DATE\n",
      "2019 --> NUM --> I --> DATE\n",
      "where --> ADV --> O --> \n",
      "sales --> NOUN --> O --> \n",
      "were --> AUX --> O --> \n",
      "greate --> ADJ --> O --> \n",
      "than --> SCONJ --> O --> \n",
      "$ --> SYM --> B --> MONEY\n",
      "50 --> NUM --> I --> MONEY\n",
      "M --> NOUN --> I --> MONEY\n",
      "in --> ADP --> O --> \n",
      "Quarter --> PROPN --> B --> DATE\n",
      "2 --> NUM --> I --> DATE\n",
      "? --> PUNCT --> O --> \n"
     ]
    }
   ],
   "source": [
    "## This is just a test code:\n",
    "text = \"display Max Shipment for the Amazon from India in year 2019 where sales were greate than $ 50 M in Quarter 2?\"\n",
    "nlp_text = nlp(text)\n",
    "for token in nlp_text:\n",
    "    print(token.text, '-->', token.pos_, '-->', token.ent_iob_,'-->',token.ent_type_)"
   ]
  },
  {
   "cell_type": "code",
   "execution_count": null,
   "metadata": {},
   "outputs": [],
   "source": [
    "# nlp = spacy.load('en', entity = False, parser = False) \n",
    "  \n",
    "# doc_list = [] \n",
    "# doc = nlp(\"Generate Top Line for category Cheese in month Nov where Sub Category is Chocolate?\")\n",
    "# doc_list.append(doc) \n",
    "# gold_list = [] \n",
    "# gold_list.append(GoldParse(doc, [u'Intent', u'Intent', u'Intent', u'O',u'O',])) \n",
    "  \n",
    "# ner = EntityRecognizer(nlp.vocab, entity_types = ['ANIMAL']) \n",
    "# ner.update(doc_list, gold_list)\n",
    "\n"
   ]
  },
  {
   "cell_type": "code",
   "execution_count": null,
   "metadata": {},
   "outputs": [],
   "source": [
    "# import spacy \n",
    "# from spacy.gold import GoldParse \n",
    "# from spacy.language import EntityRecognizer \n",
    "  \n",
    "# nlp = spacy.load('en', entity = False, parser = False) \n",
    "  \n",
    "# doc_list = [] \n",
    "# doc = nlp('Llamas make great pets.') \n",
    "# doc_list.append(doc) \n",
    "# gold_list = [] \n",
    "# gold_list.append(GoldParse(doc, [u'ANIMAL', u'O', u'O', u'O'])) \n",
    "# ner = EntityRecognizer(nlp.vocab, entity_types = ['ANIMAL']) \n",
    "# ner.update(doc_list, gold_list) "
   ]
  },
  {
   "cell_type": "code",
   "execution_count": null,
   "metadata": {},
   "outputs": [],
   "source": []
  },
  {
   "cell_type": "code",
   "execution_count": 5,
   "metadata": {},
   "outputs": [],
   "source": [
    "# Let's exract number information from the above sentence\n",
    "Numbers = []\n",
    "feats = []\n",
    "intent = []\n",
    "feats_time = []\n",
    "\n",
    "for token in nlp_text:\n",
    "    if token.pos_ == 'NUM'and token.ent_type_ != 'DATE':\n",
    "        Numbers.append(token)\n",
    "    \n",
    "    if (token.pos_ =='PROPN' or token.pos_ == 'NOUN') and token.ent_type_ != 'DATE':\n",
    "        feats.append(token)\n",
    "        \n",
    "    if token.pos_ == 'VERB':\n",
    "        intent.append(token)\n",
    "        \n",
    "    if token.ent_type_ == 'DATE':\n",
    "        feats_time.append(token)\n",
    "    \n"
   ]
  },
  {
   "cell_type": "code",
   "execution_count": 6,
   "metadata": {},
   "outputs": [
    {
     "name": "stdout",
     "output_type": "stream",
     "text": [
      "[50] \n",
      " [display, Max, Shipment, Amazon, India, sales, M] \n",
      " [year, 2019, Quarter, 2] \n",
      " []\n"
     ]
    }
   ],
   "source": [
    "print(Numbers,'\\n', feats, '\\n', feats_time,'\\n',intent)"
   ]
  },
  {
   "cell_type": "code",
   "execution_count": null,
   "metadata": {},
   "outputs": [],
   "source": []
  },
  {
   "cell_type": "code",
   "execution_count": 18,
   "metadata": {},
   "outputs": [],
   "source": [
    "test_df = pd.read_excel('test_sheet2.xlsx')"
   ]
  },
  {
   "cell_type": "code",
   "execution_count": 19,
   "metadata": {},
   "outputs": [
    {
     "data": {
      "text/html": [
       "<div>\n",
       "<style scoped>\n",
       "    .dataframe tbody tr th:only-of-type {\n",
       "        vertical-align: middle;\n",
       "    }\n",
       "\n",
       "    .dataframe tbody tr th {\n",
       "        vertical-align: top;\n",
       "    }\n",
       "\n",
       "    .dataframe thead th {\n",
       "        text-align: right;\n",
       "    }\n",
       "</style>\n",
       "<table border=\"1\" class=\"dataframe\">\n",
       "  <thead>\n",
       "    <tr style=\"text-align: right;\">\n",
       "      <th></th>\n",
       "      <th>Sample General English Query:</th>\n",
       "    </tr>\n",
       "  </thead>\n",
       "  <tbody>\n",
       "    <tr>\n",
       "      <th>0</th>\n",
       "      <td>Display the  Gross_Sales for category: Cheese , Sub-Category: Nat_Cheese from Year 2015 to 2018?</td>\n",
       "    </tr>\n",
       "    <tr>\n",
       "      <th>1</th>\n",
       "      <td>Fetch the Net_Sales for category: Breakfast, Sub-Category: Juice, PPG : [361] from week wk1 to wk 10?</td>\n",
       "    </tr>\n",
       "    <tr>\n",
       "      <th>2</th>\n",
       "      <td>How much Revenue did Company generate in Q1? in week 3? January? weeks 10-15?</td>\n",
       "    </tr>\n",
       "    <tr>\n",
       "      <th>3</th>\n",
       "      <td>How much Revenue did the Customers generate in Q1 and Q2?</td>\n",
       "    </tr>\n",
       "    <tr>\n",
       "      <th>4</th>\n",
       "      <td>Fetch the Customers whos Actual_Sales were more than $ 40M?</td>\n",
       "    </tr>\n",
       "  </tbody>\n",
       "</table>\n",
       "</div>"
      ],
      "text/plain": [
       "                                                                            Sample General English Query:\n",
       "0        Display the  Gross_Sales for category: Cheese , Sub-Category: Nat_Cheese from Year 2015 to 2018?\n",
       "1  Fetch the Net_Sales for category: Breakfast, Sub-Category: Juice, PPG : [361] from week wk1 to wk 10? \n",
       "2                          How much Revenue did Company generate in Q1? in week 3? January? weeks 10-15? \n",
       "3                                               How much Revenue did the Customers generate in Q1 and Q2?\n",
       "4                                             Fetch the Customers whos Actual_Sales were more than $ 40M?"
      ]
     },
     "execution_count": 19,
     "metadata": {},
     "output_type": "execute_result"
    }
   ],
   "source": [
    "test_df.head()"
   ]
  },
  {
   "cell_type": "code",
   "execution_count": 20,
   "metadata": {},
   "outputs": [
    {
     "name": "stdout",
     "output_type": "stream",
     "text": [
      "Display the  Gross_Sales for category: Cheese , Sub-Category: Nat_Cheese from Year 2015 to 2018?\n",
      "Fetch the Net_Sales for category: Breakfast, Sub-Category: Juice, PPG : [361] from week wk1 to wk 10? \n",
      "How much Revenue did Company generate in Q1? in week 3? January? weeks 10-15? \n",
      "How much Revenue did the Customers generate in Q1 and Q2?\n",
      "Fetch the Customers whos Actual_Sales were more than $ 40M?\n",
      "Fetch the details of the Cusotmers who has the  Actual_Vol greater than Planned_Vol in year 2019?\n",
      "List out  all the customers whose Actual_Volume is more than 10 M units in Januanry 2019?\n",
      "Write a query to fetch the EmpFname from the EmployeeInfo table in upper case and use the ALIAS name as EmpName.\n",
      "Write a query to fetch the number of employees working in the department ‘HR’.\n",
      "Write a query to get the current date.\n",
      "Write a query to retrieve the first four characters of  EmpLname from the EmployeeInfo table.\n",
      "Write a query to fetch only the place name(string before brackets) from the Address column of EmployeeInfo table.\n",
      "Write a query to find all the employees whose salary is between 50000 to 100000.\n",
      "Write a query to find the names of employees that begin with ‘S’\n",
      "Write a query to fetch top N records.\n",
      "Write a query find number of employees whose DOB is between 02/05/1970 to 31/12/1975 and are grouped according to gender\n",
      "Write a query to retrieve the EmpFname and EmpLname in a single column as “FullName”. The first name and the last name must be separated with space.\n",
      "Write a query to fetch all the records from the EmployeeInfo table ordered by EmpLname in descending order and Department in the ascending order.\n",
      "Write a query to fetch details of employees whose EmpLname ends with an alphabet ‘A’ and contains five alphabets.\n",
      "Write a query to fetch details of all employees excluding the employees with first names, “Sanjay” and “Sonia” from the EmployeeInfo table.\n",
      "Write a query to fetch details of employees with the address as “DELHI(DEL)”.\n",
      "Write a query to fetch all employees who also hold the managerial position.\n",
      "Write a query to fetch department-wise count of employees sorted by department’s count in ascending order.\n",
      "Write a SQL query to retrieve employee details from EmployeeInfo table who have a date of joining in the EmployeePosition table.\n",
      "Write a query to retrieve two minimum and maximum salaries from the EmployeePosition table.\n",
      "Write a query to display the first and the last record from the EmployeeInfo table.\n"
     ]
    }
   ],
   "source": [
    "for i in range(len(test_df)):\n",
    "    print(test_df['Sample General English Query:'][i])"
   ]
  },
  {
   "cell_type": "code",
   "execution_count": 21,
   "metadata": {},
   "outputs": [],
   "source": [
    "nlp_text_df = {}\n",
    "for i in range(len(test_df)):\n",
    "    nlp_text_df[i] = nlp(test_df['Sample General English Query:'][i])"
   ]
  },
  {
   "cell_type": "raw",
   "metadata": {},
   "source": [
    "# Let's exract information from the above sentence\n",
    "numbers_dict = {}\n",
    "feats_and_time_dict = {}\n",
    "intent_dict = {}\n",
    "\n",
    "for i in range(len(nlp_text_df)):\n",
    "    num = []\n",
    "    f_t = []\n",
    "    vrb = []\n",
    "    for token in nlp_text_df[i]:\n",
    "        if token.pos_ == 'NUM':\n",
    "            num.append(token)\n",
    "      \n",
    "        if token.pos_ =='PROPN' or token.pos_ == 'NOUN':\n",
    "            f_t.append(token)\n",
    "        \n",
    "        if token.pos_ == 'VERB':\n",
    "            vrb.append(token)\n",
    "    \n",
    "    numbers_dict[i] = num\n",
    "    feats_and_time_dict[i] = f_t\n",
    "    intent_dict[i] = vrb\n"
   ]
  },
  {
   "cell_type": "code",
   "execution_count": 38,
   "metadata": {},
   "outputs": [],
   "source": [
    "# Let's exract information from the above sentence\n",
    "numbers_dict = {}\n",
    "time_dict = {}\n",
    "\n",
    "for i in range(len(nlp_text_df)):\n",
    "    temp_numeric = []\n",
    "    temp_time = []\n",
    "    \n",
    "    for token in nlp_text_df[i]:\n",
    "        if token.pos_ == 'NUM':\n",
    "            temp_numeric.append(token)\n",
    "        \n",
    "        if token.ent_type_ == 'DATE':\n",
    "            temp_time.append(token)\n",
    "    \n",
    "    numbers_dict[i] = temp_numeric\n",
    "    time_dict[i] = temp_time"
   ]
  },
  {
   "cell_type": "code",
   "execution_count": 39,
   "metadata": {},
   "outputs": [],
   "source": [
    "#print(numbers_dict,'\\n\\n', feats_and_time_dict, '\\n\\n', intent_dict)"
   ]
  },
  {
   "cell_type": "code",
   "execution_count": 40,
   "metadata": {},
   "outputs": [],
   "source": [
    "test_df['Features_info'] = time_dict.values()\n",
    "test_df['Numeric_info'] = numbers_dict.values()\n",
    "#test_df['Intent'] = intent_dict.values()"
   ]
  },
  {
   "cell_type": "code",
   "execution_count": 41,
   "metadata": {},
   "outputs": [
    {
     "data": {
      "text/html": [
       "<div>\n",
       "<style scoped>\n",
       "    .dataframe tbody tr th:only-of-type {\n",
       "        vertical-align: middle;\n",
       "    }\n",
       "\n",
       "    .dataframe tbody tr th {\n",
       "        vertical-align: top;\n",
       "    }\n",
       "\n",
       "    .dataframe thead th {\n",
       "        text-align: right;\n",
       "    }\n",
       "</style>\n",
       "<table border=\"1\" class=\"dataframe\">\n",
       "  <thead>\n",
       "    <tr style=\"text-align: right;\">\n",
       "      <th></th>\n",
       "      <th>Sample General English Query:</th>\n",
       "      <th>Features_info</th>\n",
       "      <th>Numeric_info</th>\n",
       "    </tr>\n",
       "  </thead>\n",
       "  <tbody>\n",
       "    <tr>\n",
       "      <th>0</th>\n",
       "      <td>Display the  Gross_Sales for category: Cheese , Sub-Category: Nat_Cheese from Year 2015 to 2018?</td>\n",
       "      <td>[Year, 2015, to, 2018]</td>\n",
       "      <td>[2015, 2018]</td>\n",
       "    </tr>\n",
       "    <tr>\n",
       "      <th>1</th>\n",
       "      <td>Fetch the Net_Sales for category: Breakfast, Sub-Category: Juice, PPG : [361] from week wk1 to wk 10?</td>\n",
       "      <td>[week]</td>\n",
       "      <td>[361, 10]</td>\n",
       "    </tr>\n",
       "    <tr>\n",
       "      <th>2</th>\n",
       "      <td>How much Revenue did Company generate in Q1? in week 3? January? weeks 10-15?</td>\n",
       "      <td>[week, 3, ?, weeks, 10, -, 15]</td>\n",
       "      <td>[3, 10, 15]</td>\n",
       "    </tr>\n",
       "    <tr>\n",
       "      <th>3</th>\n",
       "      <td>How much Revenue did the Customers generate in Q1 and Q2?</td>\n",
       "      <td>[]</td>\n",
       "      <td>[]</td>\n",
       "    </tr>\n",
       "    <tr>\n",
       "      <th>4</th>\n",
       "      <td>Fetch the Customers whos Actual_Sales were more than $ 40M?</td>\n",
       "      <td>[]</td>\n",
       "      <td>[40, M]</td>\n",
       "    </tr>\n",
       "    <tr>\n",
       "      <th>5</th>\n",
       "      <td>Fetch the details of the Cusotmers who has the  Actual_Vol greater than Planned_Vol in year 2019?</td>\n",
       "      <td>[year, 2019]</td>\n",
       "      <td>[2019]</td>\n",
       "    </tr>\n",
       "    <tr>\n",
       "      <th>6</th>\n",
       "      <td>List out  all the customers whose Actual_Volume is more than 10 M units in Januanry 2019?</td>\n",
       "      <td>[Januanry, 2019]</td>\n",
       "      <td>[10, 2019]</td>\n",
       "    </tr>\n",
       "    <tr>\n",
       "      <th>7</th>\n",
       "      <td>Write a query to fetch the EmpFname from the EmployeeInfo table in upper case and use the ALIAS name as EmpName.</td>\n",
       "      <td>[]</td>\n",
       "      <td>[]</td>\n",
       "    </tr>\n",
       "    <tr>\n",
       "      <th>8</th>\n",
       "      <td>Write a query to fetch the number of employees working in the department ‘HR’.</td>\n",
       "      <td>[]</td>\n",
       "      <td>[]</td>\n",
       "    </tr>\n",
       "    <tr>\n",
       "      <th>9</th>\n",
       "      <td>Write a query to get the current date.</td>\n",
       "      <td>[]</td>\n",
       "      <td>[]</td>\n",
       "    </tr>\n",
       "    <tr>\n",
       "      <th>10</th>\n",
       "      <td>Write a query to retrieve the first four characters of  EmpLname from the EmployeeInfo table.</td>\n",
       "      <td>[]</td>\n",
       "      <td>[four]</td>\n",
       "    </tr>\n",
       "    <tr>\n",
       "      <th>11</th>\n",
       "      <td>Write a query to fetch only the place name(string before brackets) from the Address column of EmployeeInfo table.</td>\n",
       "      <td>[]</td>\n",
       "      <td>[]</td>\n",
       "    </tr>\n",
       "    <tr>\n",
       "      <th>12</th>\n",
       "      <td>Write a query to find all the employees whose salary is between 50000 to 100000.</td>\n",
       "      <td>[]</td>\n",
       "      <td>[50000, 100000]</td>\n",
       "    </tr>\n",
       "    <tr>\n",
       "      <th>13</th>\n",
       "      <td>Write a query to find the names of employees that begin with ‘S’</td>\n",
       "      <td>[]</td>\n",
       "      <td>[]</td>\n",
       "    </tr>\n",
       "    <tr>\n",
       "      <th>14</th>\n",
       "      <td>Write a query to fetch top N records.</td>\n",
       "      <td>[]</td>\n",
       "      <td>[N]</td>\n",
       "    </tr>\n",
       "    <tr>\n",
       "      <th>15</th>\n",
       "      <td>Write a query find number of employees whose DOB is between 02/05/1970 to 31/12/1975 and are grouped according to gender</td>\n",
       "      <td>[between, 02/05/1970, to, 31/12/1975]</td>\n",
       "      <td>[02/05/1970, 31/12/1975]</td>\n",
       "    </tr>\n",
       "    <tr>\n",
       "      <th>16</th>\n",
       "      <td>Write a query to retrieve the EmpFname and EmpLname in a single column as “FullName”. The first name and the last name must be separated with space.</td>\n",
       "      <td>[]</td>\n",
       "      <td>[]</td>\n",
       "    </tr>\n",
       "    <tr>\n",
       "      <th>17</th>\n",
       "      <td>Write a query to fetch all the records from the EmployeeInfo table ordered by EmpLname in descending order and Department in the ascending order.</td>\n",
       "      <td>[]</td>\n",
       "      <td>[]</td>\n",
       "    </tr>\n",
       "    <tr>\n",
       "      <th>18</th>\n",
       "      <td>Write a query to fetch details of employees whose EmpLname ends with an alphabet ‘A’ and contains five alphabets.</td>\n",
       "      <td>[]</td>\n",
       "      <td>[five]</td>\n",
       "    </tr>\n",
       "    <tr>\n",
       "      <th>19</th>\n",
       "      <td>Write a query to fetch details of all employees excluding the employees with first names, “Sanjay” and “Sonia” from the EmployeeInfo table.</td>\n",
       "      <td>[]</td>\n",
       "      <td>[]</td>\n",
       "    </tr>\n",
       "  </tbody>\n",
       "</table>\n",
       "</div>"
      ],
      "text/plain": [
       "                                                                                                                           Sample General English Query:  \\\n",
       "0                                                       Display the  Gross_Sales for category: Cheese , Sub-Category: Nat_Cheese from Year 2015 to 2018?   \n",
       "1                                                 Fetch the Net_Sales for category: Breakfast, Sub-Category: Juice, PPG : [361] from week wk1 to wk 10?    \n",
       "2                                                                         How much Revenue did Company generate in Q1? in week 3? January? weeks 10-15?    \n",
       "3                                                                                              How much Revenue did the Customers generate in Q1 and Q2?   \n",
       "4                                                                                            Fetch the Customers whos Actual_Sales were more than $ 40M?   \n",
       "5                                                      Fetch the details of the Cusotmers who has the  Actual_Vol greater than Planned_Vol in year 2019?   \n",
       "6                                                              List out  all the customers whose Actual_Volume is more than 10 M units in Januanry 2019?   \n",
       "7                                       Write a query to fetch the EmpFname from the EmployeeInfo table in upper case and use the ALIAS name as EmpName.   \n",
       "8                                                                         Write a query to fetch the number of employees working in the department ‘HR’.   \n",
       "9                                                                                                                 Write a query to get the current date.   \n",
       "10                                                         Write a query to retrieve the first four characters of  EmpLname from the EmployeeInfo table.   \n",
       "11                                     Write a query to fetch only the place name(string before brackets) from the Address column of EmployeeInfo table.   \n",
       "12                                                                      Write a query to find all the employees whose salary is between 50000 to 100000.   \n",
       "13                                                                                      Write a query to find the names of employees that begin with ‘S’   \n",
       "14                                                                                                                 Write a query to fetch top N records.   \n",
       "15                              Write a query find number of employees whose DOB is between 02/05/1970 to 31/12/1975 and are grouped according to gender   \n",
       "16  Write a query to retrieve the EmpFname and EmpLname in a single column as “FullName”. The first name and the last name must be separated with space.   \n",
       "17     Write a query to fetch all the records from the EmployeeInfo table ordered by EmpLname in descending order and Department in the ascending order.   \n",
       "18                                     Write a query to fetch details of employees whose EmpLname ends with an alphabet ‘A’ and contains five alphabets.   \n",
       "19           Write a query to fetch details of all employees excluding the employees with first names, “Sanjay” and “Sonia” from the EmployeeInfo table.   \n",
       "\n",
       "                            Features_info              Numeric_info  \n",
       "0                  [Year, 2015, to, 2018]              [2015, 2018]  \n",
       "1                                  [week]                 [361, 10]  \n",
       "2          [week, 3, ?, weeks, 10, -, 15]               [3, 10, 15]  \n",
       "3                                      []                        []  \n",
       "4                                      []                   [40, M]  \n",
       "5                            [year, 2019]                    [2019]  \n",
       "6                        [Januanry, 2019]                [10, 2019]  \n",
       "7                                      []                        []  \n",
       "8                                      []                        []  \n",
       "9                                      []                        []  \n",
       "10                                     []                    [four]  \n",
       "11                                     []                        []  \n",
       "12                                     []           [50000, 100000]  \n",
       "13                                     []                        []  \n",
       "14                                     []                       [N]  \n",
       "15  [between, 02/05/1970, to, 31/12/1975]  [02/05/1970, 31/12/1975]  \n",
       "16                                     []                        []  \n",
       "17                                     []                        []  \n",
       "18                                     []                    [five]  \n",
       "19                                     []                        []  "
      ]
     },
     "execution_count": 41,
     "metadata": {},
     "output_type": "execute_result"
    }
   ],
   "source": [
    "test_df.head(20)"
   ]
  },
  {
   "cell_type": "code",
   "execution_count": null,
   "metadata": {},
   "outputs": [],
   "source": []
  },
  {
   "cell_type": "code",
   "execution_count": null,
   "metadata": {},
   "outputs": [],
   "source": [
    "test_df.to_excel('Token_Gen1.xlsx', index=False)"
   ]
  },
  {
   "cell_type": "code",
   "execution_count": null,
   "metadata": {},
   "outputs": [],
   "source": []
  },
  {
   "cell_type": "code",
   "execution_count": null,
   "metadata": {},
   "outputs": [],
   "source": [
    "nlp('what')[0].pos_"
   ]
  },
  {
   "cell_type": "code",
   "execution_count": null,
   "metadata": {},
   "outputs": [],
   "source": []
  },
  {
   "cell_type": "code",
   "execution_count": null,
   "metadata": {},
   "outputs": [],
   "source": []
  },
  {
   "cell_type": "code",
   "execution_count": null,
   "metadata": {},
   "outputs": [],
   "source": []
  }
 ],
 "metadata": {
  "kernelspec": {
   "display_name": "Python 3",
   "language": "python",
   "name": "python3"
  },
  "language_info": {
   "codemirror_mode": {
    "name": "ipython",
    "version": 3
   },
   "file_extension": ".py",
   "mimetype": "text/x-python",
   "name": "python",
   "nbconvert_exporter": "python",
   "pygments_lexer": "ipython3",
   "version": "3.8.3"
  }
 },
 "nbformat": 4,
 "nbformat_minor": 4
}
